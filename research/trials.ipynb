{
 "cells": [
  {
   "cell_type": "code",
   "execution_count": 5,
   "id": "365ecc24",
   "metadata": {},
   "outputs": [],
   "source": [
    "import gdown "
   ]
  },
  {
   "cell_type": "code",
   "execution_count": 9,
   "id": "3b455294",
   "metadata": {},
   "outputs": [],
   "source": [
    "url = \"https://drive.google.com/file/d/18p4q4uWJi9EfKguNJDRQURwQ5MaTxE3v/view?usp=sharing\"\n"
   ]
  },
  {
   "cell_type": "code",
   "execution_count": 10,
   "id": "dbdd3f53",
   "metadata": {},
   "outputs": [
    {
     "data": {
      "text/plain": [
       "'18p4q4uWJi9EfKguNJDRQURwQ5MaTxE3v'"
      ]
     },
     "execution_count": 10,
     "metadata": {},
     "output_type": "execute_result"
    }
   ],
   "source": [
    "file_id=url.split('/')[-2]\n",
    "file_id"
   ]
  },
  {
   "cell_type": "code",
   "execution_count": 12,
   "id": "4d9908f8",
   "metadata": {},
   "outputs": [
    {
     "name": "stderr",
     "output_type": "stream",
     "text": [
      "Downloading...\n",
      "From (original): https://drive.google.com/uc?/export=download&id=18p4q4uWJi9EfKguNJDRQURwQ5MaTxE3v\n",
      "From (redirected): https://drive.google.com/uc?%2Fexport=download&id=18p4q4uWJi9EfKguNJDRQURwQ5MaTxE3v&confirm=t&uuid=896e321c-f949-4b58-b3fb-e98678d56dd3\n",
      "To: c:\\End-to-End-Pneumonia-detection-using-MLflow-and-DVC\\research\\Pneumonia_dataset.zip\n",
      "100%|██████████| 77.6M/77.6M [00:38<00:00, 2.01MB/s]\n"
     ]
    },
    {
     "data": {
      "text/plain": [
       "'Pneumonia_dataset.zip'"
      ]
     },
     "execution_count": 12,
     "metadata": {},
     "output_type": "execute_result"
    }
   ],
   "source": [
    "prefix = 'https://drive.google.com/uc?/export=download&id='\n",
    "gdown.download(prefix+file_id, \"Pneumonia_dataset.zip\")"
   ]
  },
  {
   "cell_type": "code",
   "execution_count": null,
   "id": "78c7f7a8",
   "metadata": {},
   "outputs": [],
   "source": []
  }
 ],
 "metadata": {
  "kernelspec": {
   "display_name": "pneumonia",
   "language": "python",
   "name": "python3"
  },
  "language_info": {
   "codemirror_mode": {
    "name": "ipython",
    "version": 3
   },
   "file_extension": ".py",
   "mimetype": "text/x-python",
   "name": "python",
   "nbconvert_exporter": "python",
   "pygments_lexer": "ipython3",
   "version": "3.10.18"
  }
 },
 "nbformat": 4,
 "nbformat_minor": 5
}
